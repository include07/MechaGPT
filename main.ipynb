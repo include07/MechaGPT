{
  "cells": [
    {
      "cell_type": "code",
      "execution_count": null,
      "metadata": {
        "vscode": {
          "languageId": "plaintext"
        },
        "id": "tDY4XknZ3H8w"
      },
      "outputs": [],
      "source": [
        "print(\"Hello\")\n",
        "print(\"This is me testing\")"
      ]
    }
  ],
  "metadata": {
    "language_info": {
      "name": "python"
    },
    "colab": {
      "provenance": []
    }
  },
  "nbformat": 4,
  "nbformat_minor": 0
}