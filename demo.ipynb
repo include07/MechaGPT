{
  "nbformat": 4,
  "nbformat_minor": 0,
  "metadata": {
    "colab": {
      "provenance": [],
      "mount_file_id": "1XvDPPSj2taPmvth6xm4LmPZFVmjTPPbX",
      "authorship_tag": "ABX9TyPy6W1mXe/W1EvlhlWeZbHC"
    },
    "kernelspec": {
      "name": "python3",
      "display_name": "Python 3"
    },
    "language_info": {
      "name": "python"
    }
  },
  "cells": [
    {
      "cell_type": "code",
      "execution_count": null,
      "metadata": {
        "id": "kAsM8Gfys4xv"
      },
      "outputs": [],
      "source": [
        "%%bash\n",
        "pip install langchain-community chromadb pypdf pytest"
      ]
    }
  ]
}